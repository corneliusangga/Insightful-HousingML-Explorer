{
 "cells": [
  {
   "cell_type": "markdown",
   "id": "72a875f0",
   "metadata": {},
   "source": [
    "# Proyek UAS PMDPM"
   ]
  },
  {
   "cell_type": "markdown",
   "id": "79d4888b",
   "metadata": {},
   "source": [
    "### Inisialisasi\n",
    "\n",
    "Bagian berikut berisi import library yang dibutuhkan"
   ]
  },
  {
   "cell_type": "code",
   "execution_count": 2,
   "id": "584f95c6",
   "metadata": {},
   "outputs": [],
   "source": [
    "import pandas as pd\n",
    "import numpy as np\n",
    "import seaborn as sns\n",
    "import matplotlib.pyplot as plt\n",
    "import plotly.express as px \n",
    "\n",
    "from sklearn.preprocessing import LabelEncoder, StandardScaler, MinMaxScaler\n",
    "from sklearn.model_selection import train_test_split, StratifiedKFold, GridSearchCV\n",
    "\n",
    "from sklearn.feature_selection import SelectKBest, SelectFromModel, SelectPercentile\n",
    "from sklearn.ensemble import RandomForestClassifier, GradientBoostingClassifier\n",
    "from sklearn.linear_model import LogisticRegression\n",
    "from sklearn.svm import SVC\n",
    "\n",
    "from sklearn.pipeline import Pipeline\n",
    "from sklearn.metrics import confusion_matrix, classification_report, roc_auc_score, roc_curve"
   ]
  },
  {
   "cell_type": "markdown",
   "id": "fdd03879",
   "metadata": {},
   "source": [
    "### Data Loading\n",
    "\n",
    "Bagian berikut berisi proses data loading, menampilkan 20 baris data teratas"
   ]
  },
  {
   "cell_type": "code",
   "execution_count": 3,
   "id": "1074df6e",
   "metadata": {
    "scrolled": false
   },
   "outputs": [
    {
     "data": {
      "text/html": [
       "<div>\n",
       "<style scoped>\n",
       "    .dataframe tbody tr th:only-of-type {\n",
       "        vertical-align: middle;\n",
       "    }\n",
       "\n",
       "    .dataframe tbody tr th {\n",
       "        vertical-align: top;\n",
       "    }\n",
       "\n",
       "    .dataframe thead th {\n",
       "        text-align: right;\n",
       "    }\n",
       "</style>\n",
       "<table border=\"1\" class=\"dataframe\">\n",
       "  <thead>\n",
       "    <tr style=\"text-align: right;\">\n",
       "      <th></th>\n",
       "      <th>cityCode</th>\n",
       "      <th>cityPartRange</th>\n",
       "      <th>numPrevOwners</th>\n",
       "      <th>made</th>\n",
       "      <th>isNewBuilt</th>\n",
       "      <th>hasStormProtector</th>\n",
       "      <th>basement</th>\n",
       "      <th>attic</th>\n",
       "      <th>garage</th>\n",
       "      <th>hasStorageRoom</th>\n",
       "      <th>hasGuestRoom</th>\n",
       "      <th>price</th>\n",
       "      <th>category</th>\n",
       "    </tr>\n",
       "  </thead>\n",
       "  <tbody>\n",
       "    <tr>\n",
       "      <th>0</th>\n",
       "      <td>61648</td>\n",
       "      <td>3</td>\n",
       "      <td>4</td>\n",
       "      <td>1995</td>\n",
       "      <td>N</td>\n",
       "      <td>Y</td>\n",
       "      <td>3114</td>\n",
       "      <td>1258</td>\n",
       "      <td>264</td>\n",
       "      <td>Y</td>\n",
       "      <td>9</td>\n",
       "      <td>10313.5</td>\n",
       "      <td>Basic</td>\n",
       "    </tr>\n",
       "    <tr>\n",
       "      <th>1</th>\n",
       "      <td>33633</td>\n",
       "      <td>9</td>\n",
       "      <td>1</td>\n",
       "      <td>2011</td>\n",
       "      <td>N</td>\n",
       "      <td>Y</td>\n",
       "      <td>9390</td>\n",
       "      <td>6219</td>\n",
       "      <td>922</td>\n",
       "      <td>N</td>\n",
       "      <td>9</td>\n",
       "      <td>13229.1</td>\n",
       "      <td>Basic</td>\n",
       "    </tr>\n",
       "    <tr>\n",
       "      <th>2</th>\n",
       "      <td>80623</td>\n",
       "      <td>1</td>\n",
       "      <td>4</td>\n",
       "      <td>2003</td>\n",
       "      <td>Y</td>\n",
       "      <td>N</td>\n",
       "      <td>2239</td>\n",
       "      <td>2795</td>\n",
       "      <td>951</td>\n",
       "      <td>Y</td>\n",
       "      <td>7</td>\n",
       "      <td>14431.3</td>\n",
       "      <td>Basic</td>\n",
       "    </tr>\n",
       "    <tr>\n",
       "      <th>3</th>\n",
       "      <td>8862</td>\n",
       "      <td>6</td>\n",
       "      <td>2</td>\n",
       "      <td>1990</td>\n",
       "      <td>N</td>\n",
       "      <td>N</td>\n",
       "      <td>6861</td>\n",
       "      <td>5769</td>\n",
       "      <td>442</td>\n",
       "      <td>N</td>\n",
       "      <td>5</td>\n",
       "      <td>15488.0</td>\n",
       "      <td>Basic</td>\n",
       "    </tr>\n",
       "    <tr>\n",
       "      <th>4</th>\n",
       "      <td>27008</td>\n",
       "      <td>6</td>\n",
       "      <td>9</td>\n",
       "      <td>1992</td>\n",
       "      <td>Y</td>\n",
       "      <td>Y</td>\n",
       "      <td>6618</td>\n",
       "      <td>7045</td>\n",
       "      <td>939</td>\n",
       "      <td>Y</td>\n",
       "      <td>10</td>\n",
       "      <td>16799.2</td>\n",
       "      <td>Basic</td>\n",
       "    </tr>\n",
       "    <tr>\n",
       "      <th>5</th>\n",
       "      <td>82480</td>\n",
       "      <td>5</td>\n",
       "      <td>2</td>\n",
       "      <td>2010</td>\n",
       "      <td>Y</td>\n",
       "      <td>N</td>\n",
       "      <td>4426</td>\n",
       "      <td>5336</td>\n",
       "      <td>911</td>\n",
       "      <td>N</td>\n",
       "      <td>4</td>\n",
       "      <td>17071.0</td>\n",
       "      <td>Basic</td>\n",
       "    </tr>\n",
       "    <tr>\n",
       "      <th>6</th>\n",
       "      <td>26761</td>\n",
       "      <td>4</td>\n",
       "      <td>3</td>\n",
       "      <td>1990</td>\n",
       "      <td>Y</td>\n",
       "      <td>N</td>\n",
       "      <td>6022</td>\n",
       "      <td>8521</td>\n",
       "      <td>391</td>\n",
       "      <td>Y</td>\n",
       "      <td>3</td>\n",
       "      <td>17363.0</td>\n",
       "      <td>Basic</td>\n",
       "    </tr>\n",
       "    <tr>\n",
       "      <th>7</th>\n",
       "      <td>62932</td>\n",
       "      <td>6</td>\n",
       "      <td>3</td>\n",
       "      <td>2000</td>\n",
       "      <td>N</td>\n",
       "      <td>N</td>\n",
       "      <td>2325</td>\n",
       "      <td>6230</td>\n",
       "      <td>536</td>\n",
       "      <td>N</td>\n",
       "      <td>9</td>\n",
       "      <td>18985.0</td>\n",
       "      <td>Basic</td>\n",
       "    </tr>\n",
       "    <tr>\n",
       "      <th>8</th>\n",
       "      <td>91418</td>\n",
       "      <td>2</td>\n",
       "      <td>2</td>\n",
       "      <td>2020</td>\n",
       "      <td>N</td>\n",
       "      <td>Y</td>\n",
       "      <td>8598</td>\n",
       "      <td>3119</td>\n",
       "      <td>268</td>\n",
       "      <td>N</td>\n",
       "      <td>10</td>\n",
       "      <td>19638.0</td>\n",
       "      <td>Basic</td>\n",
       "    </tr>\n",
       "    <tr>\n",
       "      <th>9</th>\n",
       "      <td>29281</td>\n",
       "      <td>7</td>\n",
       "      <td>6</td>\n",
       "      <td>1995</td>\n",
       "      <td>N</td>\n",
       "      <td>Y</td>\n",
       "      <td>2675</td>\n",
       "      <td>6452</td>\n",
       "      <td>724</td>\n",
       "      <td>Y</td>\n",
       "      <td>2</td>\n",
       "      <td>19788.5</td>\n",
       "      <td>Basic</td>\n",
       "    </tr>\n",
       "    <tr>\n",
       "      <th>10</th>\n",
       "      <td>40384</td>\n",
       "      <td>5</td>\n",
       "      <td>1</td>\n",
       "      <td>2021</td>\n",
       "      <td>N</td>\n",
       "      <td>Y</td>\n",
       "      <td>6831</td>\n",
       "      <td>1323</td>\n",
       "      <td>242</td>\n",
       "      <td>N</td>\n",
       "      <td>9</td>\n",
       "      <td>21201.1</td>\n",
       "      <td>Basic</td>\n",
       "    </tr>\n",
       "    <tr>\n",
       "      <th>11</th>\n",
       "      <td>99905</td>\n",
       "      <td>3</td>\n",
       "      <td>1</td>\n",
       "      <td>2002</td>\n",
       "      <td>N</td>\n",
       "      <td>Y</td>\n",
       "      <td>7704</td>\n",
       "      <td>7896</td>\n",
       "      <td>468</td>\n",
       "      <td>Y</td>\n",
       "      <td>8</td>\n",
       "      <td>22499.2</td>\n",
       "      <td>Basic</td>\n",
       "    </tr>\n",
       "    <tr>\n",
       "      <th>12</th>\n",
       "      <td>42248</td>\n",
       "      <td>5</td>\n",
       "      <td>4</td>\n",
       "      <td>1997</td>\n",
       "      <td>Y</td>\n",
       "      <td>N</td>\n",
       "      <td>3411</td>\n",
       "      <td>8985</td>\n",
       "      <td>213</td>\n",
       "      <td>N</td>\n",
       "      <td>4</td>\n",
       "      <td>22670.7</td>\n",
       "      <td>Basic</td>\n",
       "    </tr>\n",
       "    <tr>\n",
       "      <th>13</th>\n",
       "      <td>63045</td>\n",
       "      <td>5</td>\n",
       "      <td>1</td>\n",
       "      <td>1991</td>\n",
       "      <td>N</td>\n",
       "      <td>Y</td>\n",
       "      <td>411</td>\n",
       "      <td>475</td>\n",
       "      <td>110</td>\n",
       "      <td>N</td>\n",
       "      <td>9</td>\n",
       "      <td>23653.1</td>\n",
       "      <td>Basic</td>\n",
       "    </tr>\n",
       "    <tr>\n",
       "      <th>14</th>\n",
       "      <td>53558</td>\n",
       "      <td>8</td>\n",
       "      <td>6</td>\n",
       "      <td>2014</td>\n",
       "      <td>Y</td>\n",
       "      <td>N</td>\n",
       "      <td>2663</td>\n",
       "      <td>1650</td>\n",
       "      <td>403</td>\n",
       "      <td>Y</td>\n",
       "      <td>10</td>\n",
       "      <td>23818.4</td>\n",
       "      <td>Basic</td>\n",
       "    </tr>\n",
       "    <tr>\n",
       "      <th>15</th>\n",
       "      <td>40481</td>\n",
       "      <td>7</td>\n",
       "      <td>5</td>\n",
       "      <td>2009</td>\n",
       "      <td>N</td>\n",
       "      <td>Y</td>\n",
       "      <td>3367</td>\n",
       "      <td>1039</td>\n",
       "      <td>436</td>\n",
       "      <td>Y</td>\n",
       "      <td>1</td>\n",
       "      <td>24058.9</td>\n",
       "      <td>Basic</td>\n",
       "    </tr>\n",
       "    <tr>\n",
       "      <th>16</th>\n",
       "      <td>10784</td>\n",
       "      <td>7</td>\n",
       "      <td>2</td>\n",
       "      <td>2019</td>\n",
       "      <td>N</td>\n",
       "      <td>N</td>\n",
       "      <td>9680</td>\n",
       "      <td>5250</td>\n",
       "      <td>134</td>\n",
       "      <td>N</td>\n",
       "      <td>10</td>\n",
       "      <td>26533.9</td>\n",
       "      <td>Basic</td>\n",
       "    </tr>\n",
       "    <tr>\n",
       "      <th>17</th>\n",
       "      <td>72140</td>\n",
       "      <td>2</td>\n",
       "      <td>1</td>\n",
       "      <td>2014</td>\n",
       "      <td>Y</td>\n",
       "      <td>N</td>\n",
       "      <td>1820</td>\n",
       "      <td>999</td>\n",
       "      <td>805</td>\n",
       "      <td>Y</td>\n",
       "      <td>4</td>\n",
       "      <td>27438.4</td>\n",
       "      <td>Basic</td>\n",
       "    </tr>\n",
       "    <tr>\n",
       "      <th>18</th>\n",
       "      <td>25150</td>\n",
       "      <td>6</td>\n",
       "      <td>5</td>\n",
       "      <td>2000</td>\n",
       "      <td>Y</td>\n",
       "      <td>N</td>\n",
       "      <td>6453</td>\n",
       "      <td>5671</td>\n",
       "      <td>744</td>\n",
       "      <td>Y</td>\n",
       "      <td>9</td>\n",
       "      <td>28028.0</td>\n",
       "      <td>Basic</td>\n",
       "    </tr>\n",
       "    <tr>\n",
       "      <th>19</th>\n",
       "      <td>38322</td>\n",
       "      <td>2</td>\n",
       "      <td>4</td>\n",
       "      <td>1996</td>\n",
       "      <td>Y</td>\n",
       "      <td>Y</td>\n",
       "      <td>5740</td>\n",
       "      <td>8505</td>\n",
       "      <td>106</td>\n",
       "      <td>Y</td>\n",
       "      <td>6</td>\n",
       "      <td>28295.6</td>\n",
       "      <td>Basic</td>\n",
       "    </tr>\n",
       "  </tbody>\n",
       "</table>\n",
       "</div>"
      ],
      "text/plain": [
       "    cityCode  cityPartRange  numPrevOwners  made isNewBuilt hasStormProtector  \\\n",
       "0      61648              3              4  1995          N                 Y   \n",
       "1      33633              9              1  2011          N                 Y   \n",
       "2      80623              1              4  2003          Y                 N   \n",
       "3       8862              6              2  1990          N                 N   \n",
       "4      27008              6              9  1992          Y                 Y   \n",
       "5      82480              5              2  2010          Y                 N   \n",
       "6      26761              4              3  1990          Y                 N   \n",
       "7      62932              6              3  2000          N                 N   \n",
       "8      91418              2              2  2020          N                 Y   \n",
       "9      29281              7              6  1995          N                 Y   \n",
       "10     40384              5              1  2021          N                 Y   \n",
       "11     99905              3              1  2002          N                 Y   \n",
       "12     42248              5              4  1997          Y                 N   \n",
       "13     63045              5              1  1991          N                 Y   \n",
       "14     53558              8              6  2014          Y                 N   \n",
       "15     40481              7              5  2009          N                 Y   \n",
       "16     10784              7              2  2019          N                 N   \n",
       "17     72140              2              1  2014          Y                 N   \n",
       "18     25150              6              5  2000          Y                 N   \n",
       "19     38322              2              4  1996          Y                 Y   \n",
       "\n",
       "    basement  attic  garage hasStorageRoom  hasGuestRoom    price category  \n",
       "0       3114   1258     264              Y             9  10313.5    Basic  \n",
       "1       9390   6219     922              N             9  13229.1    Basic  \n",
       "2       2239   2795     951              Y             7  14431.3    Basic  \n",
       "3       6861   5769     442              N             5  15488.0    Basic  \n",
       "4       6618   7045     939              Y            10  16799.2    Basic  \n",
       "5       4426   5336     911              N             4  17071.0    Basic  \n",
       "6       6022   8521     391              Y             3  17363.0    Basic  \n",
       "7       2325   6230     536              N             9  18985.0    Basic  \n",
       "8       8598   3119     268              N            10  19638.0    Basic  \n",
       "9       2675   6452     724              Y             2  19788.5    Basic  \n",
       "10      6831   1323     242              N             9  21201.1    Basic  \n",
       "11      7704   7896     468              Y             8  22499.2    Basic  \n",
       "12      3411   8985     213              N             4  22670.7    Basic  \n",
       "13       411    475     110              N             9  23653.1    Basic  \n",
       "14      2663   1650     403              Y            10  23818.4    Basic  \n",
       "15      3367   1039     436              Y             1  24058.9    Basic  \n",
       "16      9680   5250     134              N            10  26533.9    Basic  \n",
       "17      1820    999     805              Y             4  27438.4    Basic  \n",
       "18      6453   5671     744              Y             9  28028.0    Basic  \n",
       "19      5740   8505     106              Y             6  28295.6    Basic  "
      ]
     },
     "execution_count": 3,
     "metadata": {},
     "output_type": "execute_result"
    }
   ],
   "source": [
    "df_housing = pd.read_csv(\"./paris_housing2000.csv\")\n",
    "df_housing.head(20)"
   ]
  },
  {
   "cell_type": "markdown",
   "id": "3f7db2dd",
   "metadata": {},
   "source": [
    "### Data Cleansing\n",
    "\n",
    "Bagian berikut berisi proses pembersihan data (missing values handling)"
   ]
  },
  {
   "cell_type": "code",
   "execution_count": 4,
   "id": "b4b3c86c",
   "metadata": {},
   "outputs": [
    {
     "data": {
      "text/plain": [
       "cityCode             0\n",
       "cityPartRange        0\n",
       "numPrevOwners        0\n",
       "made                 0\n",
       "isNewBuilt           0\n",
       "hasStormProtector    0\n",
       "basement             0\n",
       "attic                0\n",
       "garage               0\n",
       "hasStorageRoom       0\n",
       "hasGuestRoom         0\n",
       "price                0\n",
       "category             0\n",
       "dtype: int64"
      ]
     },
     "execution_count": 4,
     "metadata": {},
     "output_type": "execute_result"
    }
   ],
   "source": [
    "df_housing.isna().sum()"
   ]
  },
  {
   "cell_type": "code",
   "execution_count": 5,
   "id": "ba01da8f",
   "metadata": {},
   "outputs": [
    {
     "data": {
      "text/html": [
       "<div>\n",
       "<style scoped>\n",
       "    .dataframe tbody tr th:only-of-type {\n",
       "        vertical-align: middle;\n",
       "    }\n",
       "\n",
       "    .dataframe tbody tr th {\n",
       "        vertical-align: top;\n",
       "    }\n",
       "\n",
       "    .dataframe thead th {\n",
       "        text-align: right;\n",
       "    }\n",
       "</style>\n",
       "<table border=\"1\" class=\"dataframe\">\n",
       "  <thead>\n",
       "    <tr style=\"text-align: right;\">\n",
       "      <th></th>\n",
       "      <th>cityCode</th>\n",
       "      <th>cityPartRange</th>\n",
       "      <th>numPrevOwners</th>\n",
       "      <th>made</th>\n",
       "      <th>basement</th>\n",
       "      <th>attic</th>\n",
       "      <th>garage</th>\n",
       "      <th>hasGuestRoom</th>\n",
       "      <th>price</th>\n",
       "      <th>category</th>\n",
       "      <th>isNewBuilt</th>\n",
       "      <th>hasStormProtector</th>\n",
       "      <th>hasStorageRoom</th>\n",
       "    </tr>\n",
       "  </thead>\n",
       "  <tbody>\n",
       "    <tr>\n",
       "      <th>0</th>\n",
       "      <td>61648</td>\n",
       "      <td>3</td>\n",
       "      <td>4</td>\n",
       "      <td>1995</td>\n",
       "      <td>3114</td>\n",
       "      <td>1258</td>\n",
       "      <td>264</td>\n",
       "      <td>9</td>\n",
       "      <td>10313.5</td>\n",
       "      <td>Basic</td>\n",
       "      <td>False</td>\n",
       "      <td>True</td>\n",
       "      <td>True</td>\n",
       "    </tr>\n",
       "    <tr>\n",
       "      <th>1</th>\n",
       "      <td>33633</td>\n",
       "      <td>9</td>\n",
       "      <td>1</td>\n",
       "      <td>2011</td>\n",
       "      <td>9390</td>\n",
       "      <td>6219</td>\n",
       "      <td>922</td>\n",
       "      <td>9</td>\n",
       "      <td>13229.1</td>\n",
       "      <td>Basic</td>\n",
       "      <td>False</td>\n",
       "      <td>True</td>\n",
       "      <td>False</td>\n",
       "    </tr>\n",
       "    <tr>\n",
       "      <th>2</th>\n",
       "      <td>80623</td>\n",
       "      <td>1</td>\n",
       "      <td>4</td>\n",
       "      <td>2003</td>\n",
       "      <td>2239</td>\n",
       "      <td>2795</td>\n",
       "      <td>951</td>\n",
       "      <td>7</td>\n",
       "      <td>14431.3</td>\n",
       "      <td>Basic</td>\n",
       "      <td>True</td>\n",
       "      <td>False</td>\n",
       "      <td>True</td>\n",
       "    </tr>\n",
       "    <tr>\n",
       "      <th>3</th>\n",
       "      <td>8862</td>\n",
       "      <td>6</td>\n",
       "      <td>2</td>\n",
       "      <td>1990</td>\n",
       "      <td>6861</td>\n",
       "      <td>5769</td>\n",
       "      <td>442</td>\n",
       "      <td>5</td>\n",
       "      <td>15488.0</td>\n",
       "      <td>Basic</td>\n",
       "      <td>False</td>\n",
       "      <td>False</td>\n",
       "      <td>False</td>\n",
       "    </tr>\n",
       "    <tr>\n",
       "      <th>4</th>\n",
       "      <td>27008</td>\n",
       "      <td>6</td>\n",
       "      <td>9</td>\n",
       "      <td>1992</td>\n",
       "      <td>6618</td>\n",
       "      <td>7045</td>\n",
       "      <td>939</td>\n",
       "      <td>10</td>\n",
       "      <td>16799.2</td>\n",
       "      <td>Basic</td>\n",
       "      <td>True</td>\n",
       "      <td>True</td>\n",
       "      <td>True</td>\n",
       "    </tr>\n",
       "    <tr>\n",
       "      <th>5</th>\n",
       "      <td>82480</td>\n",
       "      <td>5</td>\n",
       "      <td>2</td>\n",
       "      <td>2010</td>\n",
       "      <td>4426</td>\n",
       "      <td>5336</td>\n",
       "      <td>911</td>\n",
       "      <td>4</td>\n",
       "      <td>17071.0</td>\n",
       "      <td>Basic</td>\n",
       "      <td>True</td>\n",
       "      <td>False</td>\n",
       "      <td>False</td>\n",
       "    </tr>\n",
       "    <tr>\n",
       "      <th>6</th>\n",
       "      <td>26761</td>\n",
       "      <td>4</td>\n",
       "      <td>3</td>\n",
       "      <td>1990</td>\n",
       "      <td>6022</td>\n",
       "      <td>8521</td>\n",
       "      <td>391</td>\n",
       "      <td>3</td>\n",
       "      <td>17363.0</td>\n",
       "      <td>Basic</td>\n",
       "      <td>True</td>\n",
       "      <td>False</td>\n",
       "      <td>True</td>\n",
       "    </tr>\n",
       "    <tr>\n",
       "      <th>7</th>\n",
       "      <td>62932</td>\n",
       "      <td>6</td>\n",
       "      <td>3</td>\n",
       "      <td>2000</td>\n",
       "      <td>2325</td>\n",
       "      <td>6230</td>\n",
       "      <td>536</td>\n",
       "      <td>9</td>\n",
       "      <td>18985.0</td>\n",
       "      <td>Basic</td>\n",
       "      <td>False</td>\n",
       "      <td>False</td>\n",
       "      <td>False</td>\n",
       "    </tr>\n",
       "    <tr>\n",
       "      <th>8</th>\n",
       "      <td>91418</td>\n",
       "      <td>2</td>\n",
       "      <td>2</td>\n",
       "      <td>2020</td>\n",
       "      <td>8598</td>\n",
       "      <td>3119</td>\n",
       "      <td>268</td>\n",
       "      <td>10</td>\n",
       "      <td>19638.0</td>\n",
       "      <td>Basic</td>\n",
       "      <td>False</td>\n",
       "      <td>True</td>\n",
       "      <td>False</td>\n",
       "    </tr>\n",
       "    <tr>\n",
       "      <th>9</th>\n",
       "      <td>29281</td>\n",
       "      <td>7</td>\n",
       "      <td>6</td>\n",
       "      <td>1995</td>\n",
       "      <td>2675</td>\n",
       "      <td>6452</td>\n",
       "      <td>724</td>\n",
       "      <td>2</td>\n",
       "      <td>19788.5</td>\n",
       "      <td>Basic</td>\n",
       "      <td>False</td>\n",
       "      <td>True</td>\n",
       "      <td>True</td>\n",
       "    </tr>\n",
       "    <tr>\n",
       "      <th>10</th>\n",
       "      <td>40384</td>\n",
       "      <td>5</td>\n",
       "      <td>1</td>\n",
       "      <td>2021</td>\n",
       "      <td>6831</td>\n",
       "      <td>1323</td>\n",
       "      <td>242</td>\n",
       "      <td>9</td>\n",
       "      <td>21201.1</td>\n",
       "      <td>Basic</td>\n",
       "      <td>False</td>\n",
       "      <td>True</td>\n",
       "      <td>False</td>\n",
       "    </tr>\n",
       "    <tr>\n",
       "      <th>11</th>\n",
       "      <td>99905</td>\n",
       "      <td>3</td>\n",
       "      <td>1</td>\n",
       "      <td>2002</td>\n",
       "      <td>7704</td>\n",
       "      <td>7896</td>\n",
       "      <td>468</td>\n",
       "      <td>8</td>\n",
       "      <td>22499.2</td>\n",
       "      <td>Basic</td>\n",
       "      <td>False</td>\n",
       "      <td>True</td>\n",
       "      <td>True</td>\n",
       "    </tr>\n",
       "    <tr>\n",
       "      <th>12</th>\n",
       "      <td>42248</td>\n",
       "      <td>5</td>\n",
       "      <td>4</td>\n",
       "      <td>1997</td>\n",
       "      <td>3411</td>\n",
       "      <td>8985</td>\n",
       "      <td>213</td>\n",
       "      <td>4</td>\n",
       "      <td>22670.7</td>\n",
       "      <td>Basic</td>\n",
       "      <td>True</td>\n",
       "      <td>False</td>\n",
       "      <td>False</td>\n",
       "    </tr>\n",
       "    <tr>\n",
       "      <th>13</th>\n",
       "      <td>63045</td>\n",
       "      <td>5</td>\n",
       "      <td>1</td>\n",
       "      <td>1991</td>\n",
       "      <td>411</td>\n",
       "      <td>475</td>\n",
       "      <td>110</td>\n",
       "      <td>9</td>\n",
       "      <td>23653.1</td>\n",
       "      <td>Basic</td>\n",
       "      <td>False</td>\n",
       "      <td>True</td>\n",
       "      <td>False</td>\n",
       "    </tr>\n",
       "    <tr>\n",
       "      <th>14</th>\n",
       "      <td>53558</td>\n",
       "      <td>8</td>\n",
       "      <td>6</td>\n",
       "      <td>2014</td>\n",
       "      <td>2663</td>\n",
       "      <td>1650</td>\n",
       "      <td>403</td>\n",
       "      <td>10</td>\n",
       "      <td>23818.4</td>\n",
       "      <td>Basic</td>\n",
       "      <td>True</td>\n",
       "      <td>False</td>\n",
       "      <td>True</td>\n",
       "    </tr>\n",
       "    <tr>\n",
       "      <th>15</th>\n",
       "      <td>40481</td>\n",
       "      <td>7</td>\n",
       "      <td>5</td>\n",
       "      <td>2009</td>\n",
       "      <td>3367</td>\n",
       "      <td>1039</td>\n",
       "      <td>436</td>\n",
       "      <td>1</td>\n",
       "      <td>24058.9</td>\n",
       "      <td>Basic</td>\n",
       "      <td>False</td>\n",
       "      <td>True</td>\n",
       "      <td>True</td>\n",
       "    </tr>\n",
       "    <tr>\n",
       "      <th>16</th>\n",
       "      <td>10784</td>\n",
       "      <td>7</td>\n",
       "      <td>2</td>\n",
       "      <td>2019</td>\n",
       "      <td>9680</td>\n",
       "      <td>5250</td>\n",
       "      <td>134</td>\n",
       "      <td>10</td>\n",
       "      <td>26533.9</td>\n",
       "      <td>Basic</td>\n",
       "      <td>False</td>\n",
       "      <td>False</td>\n",
       "      <td>False</td>\n",
       "    </tr>\n",
       "    <tr>\n",
       "      <th>17</th>\n",
       "      <td>72140</td>\n",
       "      <td>2</td>\n",
       "      <td>1</td>\n",
       "      <td>2014</td>\n",
       "      <td>1820</td>\n",
       "      <td>999</td>\n",
       "      <td>805</td>\n",
       "      <td>4</td>\n",
       "      <td>27438.4</td>\n",
       "      <td>Basic</td>\n",
       "      <td>True</td>\n",
       "      <td>False</td>\n",
       "      <td>True</td>\n",
       "    </tr>\n",
       "    <tr>\n",
       "      <th>18</th>\n",
       "      <td>25150</td>\n",
       "      <td>6</td>\n",
       "      <td>5</td>\n",
       "      <td>2000</td>\n",
       "      <td>6453</td>\n",
       "      <td>5671</td>\n",
       "      <td>744</td>\n",
       "      <td>9</td>\n",
       "      <td>28028.0</td>\n",
       "      <td>Basic</td>\n",
       "      <td>True</td>\n",
       "      <td>False</td>\n",
       "      <td>True</td>\n",
       "    </tr>\n",
       "    <tr>\n",
       "      <th>19</th>\n",
       "      <td>38322</td>\n",
       "      <td>2</td>\n",
       "      <td>4</td>\n",
       "      <td>1996</td>\n",
       "      <td>5740</td>\n",
       "      <td>8505</td>\n",
       "      <td>106</td>\n",
       "      <td>6</td>\n",
       "      <td>28295.6</td>\n",
       "      <td>Basic</td>\n",
       "      <td>True</td>\n",
       "      <td>True</td>\n",
       "      <td>True</td>\n",
       "    </tr>\n",
       "  </tbody>\n",
       "</table>\n",
       "</div>"
      ],
      "text/plain": [
       "    cityCode  cityPartRange  numPrevOwners  made  basement  attic  garage  \\\n",
       "0      61648              3              4  1995      3114   1258     264   \n",
       "1      33633              9              1  2011      9390   6219     922   \n",
       "2      80623              1              4  2003      2239   2795     951   \n",
       "3       8862              6              2  1990      6861   5769     442   \n",
       "4      27008              6              9  1992      6618   7045     939   \n",
       "5      82480              5              2  2010      4426   5336     911   \n",
       "6      26761              4              3  1990      6022   8521     391   \n",
       "7      62932              6              3  2000      2325   6230     536   \n",
       "8      91418              2              2  2020      8598   3119     268   \n",
       "9      29281              7              6  1995      2675   6452     724   \n",
       "10     40384              5              1  2021      6831   1323     242   \n",
       "11     99905              3              1  2002      7704   7896     468   \n",
       "12     42248              5              4  1997      3411   8985     213   \n",
       "13     63045              5              1  1991       411    475     110   \n",
       "14     53558              8              6  2014      2663   1650     403   \n",
       "15     40481              7              5  2009      3367   1039     436   \n",
       "16     10784              7              2  2019      9680   5250     134   \n",
       "17     72140              2              1  2014      1820    999     805   \n",
       "18     25150              6              5  2000      6453   5671     744   \n",
       "19     38322              2              4  1996      5740   8505     106   \n",
       "\n",
       "    hasGuestRoom    price category  isNewBuilt  hasStormProtector  \\\n",
       "0              9  10313.5    Basic       False               True   \n",
       "1              9  13229.1    Basic       False               True   \n",
       "2              7  14431.3    Basic        True              False   \n",
       "3              5  15488.0    Basic       False              False   \n",
       "4             10  16799.2    Basic        True               True   \n",
       "5              4  17071.0    Basic        True              False   \n",
       "6              3  17363.0    Basic        True              False   \n",
       "7              9  18985.0    Basic       False              False   \n",
       "8             10  19638.0    Basic       False               True   \n",
       "9              2  19788.5    Basic       False               True   \n",
       "10             9  21201.1    Basic       False               True   \n",
       "11             8  22499.2    Basic       False               True   \n",
       "12             4  22670.7    Basic        True              False   \n",
       "13             9  23653.1    Basic       False               True   \n",
       "14            10  23818.4    Basic        True              False   \n",
       "15             1  24058.9    Basic       False               True   \n",
       "16            10  26533.9    Basic       False              False   \n",
       "17             4  27438.4    Basic        True              False   \n",
       "18             9  28028.0    Basic        True              False   \n",
       "19             6  28295.6    Basic        True               True   \n",
       "\n",
       "    hasStorageRoom  \n",
       "0             True  \n",
       "1            False  \n",
       "2             True  \n",
       "3            False  \n",
       "4             True  \n",
       "5            False  \n",
       "6             True  \n",
       "7            False  \n",
       "8            False  \n",
       "9             True  \n",
       "10           False  \n",
       "11            True  \n",
       "12           False  \n",
       "13           False  \n",
       "14            True  \n",
       "15            True  \n",
       "16           False  \n",
       "17            True  \n",
       "18            True  \n",
       "19            True  "
      ]
     },
     "execution_count": 5,
     "metadata": {},
     "output_type": "execute_result"
    }
   ],
   "source": [
    "cat_cols = ['isNewBuilt', 'hasStormProtector', 'hasStorageRoom']\n",
    "\n",
    "df_housing = pd.get_dummies(df_housing, columns=cat_cols, drop_first = True)\n",
    "df_housing.rename(columns={'isNewBuilt_Y': 'isNewBuilt', 'hasStormProtector_Y': 'hasStormProtector', 'hasStorageRoom_Y': 'hasStorageRoom'}, inplace=True)\n",
    "df_housing.head(20)"
   ]
  },
  {
   "cell_type": "code",
   "execution_count": 6,
   "id": "67421485",
   "metadata": {},
   "outputs": [
    {
     "data": {
      "text/html": [
       "<div>\n",
       "<style scoped>\n",
       "    .dataframe tbody tr th:only-of-type {\n",
       "        vertical-align: middle;\n",
       "    }\n",
       "\n",
       "    .dataframe tbody tr th {\n",
       "        vertical-align: top;\n",
       "    }\n",
       "\n",
       "    .dataframe thead th {\n",
       "        text-align: right;\n",
       "    }\n",
       "</style>\n",
       "<table border=\"1\" class=\"dataframe\">\n",
       "  <thead>\n",
       "    <tr style=\"text-align: right;\">\n",
       "      <th></th>\n",
       "      <th>cityCode</th>\n",
       "      <th>cityPartRange</th>\n",
       "      <th>numPrevOwners</th>\n",
       "      <th>made</th>\n",
       "      <th>basement</th>\n",
       "      <th>attic</th>\n",
       "      <th>garage</th>\n",
       "      <th>hasGuestRoom</th>\n",
       "      <th>price</th>\n",
       "      <th>category</th>\n",
       "      <th>isNewBuilt</th>\n",
       "      <th>hasStormProtector</th>\n",
       "      <th>hasStorageRoom</th>\n",
       "    </tr>\n",
       "  </thead>\n",
       "  <tbody>\n",
       "    <tr>\n",
       "      <th>0</th>\n",
       "      <td>61648</td>\n",
       "      <td>3</td>\n",
       "      <td>4</td>\n",
       "      <td>1995</td>\n",
       "      <td>3114</td>\n",
       "      <td>1258</td>\n",
       "      <td>264</td>\n",
       "      <td>9</td>\n",
       "      <td>10313.5</td>\n",
       "      <td>0</td>\n",
       "      <td>False</td>\n",
       "      <td>True</td>\n",
       "      <td>True</td>\n",
       "    </tr>\n",
       "    <tr>\n",
       "      <th>1</th>\n",
       "      <td>33633</td>\n",
       "      <td>9</td>\n",
       "      <td>1</td>\n",
       "      <td>2011</td>\n",
       "      <td>9390</td>\n",
       "      <td>6219</td>\n",
       "      <td>922</td>\n",
       "      <td>9</td>\n",
       "      <td>13229.1</td>\n",
       "      <td>0</td>\n",
       "      <td>False</td>\n",
       "      <td>True</td>\n",
       "      <td>False</td>\n",
       "    </tr>\n",
       "    <tr>\n",
       "      <th>2</th>\n",
       "      <td>80623</td>\n",
       "      <td>1</td>\n",
       "      <td>4</td>\n",
       "      <td>2003</td>\n",
       "      <td>2239</td>\n",
       "      <td>2795</td>\n",
       "      <td>951</td>\n",
       "      <td>7</td>\n",
       "      <td>14431.3</td>\n",
       "      <td>0</td>\n",
       "      <td>True</td>\n",
       "      <td>False</td>\n",
       "      <td>True</td>\n",
       "    </tr>\n",
       "    <tr>\n",
       "      <th>3</th>\n",
       "      <td>8862</td>\n",
       "      <td>6</td>\n",
       "      <td>2</td>\n",
       "      <td>1990</td>\n",
       "      <td>6861</td>\n",
       "      <td>5769</td>\n",
       "      <td>442</td>\n",
       "      <td>5</td>\n",
       "      <td>15488.0</td>\n",
       "      <td>0</td>\n",
       "      <td>False</td>\n",
       "      <td>False</td>\n",
       "      <td>False</td>\n",
       "    </tr>\n",
       "    <tr>\n",
       "      <th>4</th>\n",
       "      <td>27008</td>\n",
       "      <td>6</td>\n",
       "      <td>9</td>\n",
       "      <td>1992</td>\n",
       "      <td>6618</td>\n",
       "      <td>7045</td>\n",
       "      <td>939</td>\n",
       "      <td>10</td>\n",
       "      <td>16799.2</td>\n",
       "      <td>0</td>\n",
       "      <td>True</td>\n",
       "      <td>True</td>\n",
       "      <td>True</td>\n",
       "    </tr>\n",
       "    <tr>\n",
       "      <th>5</th>\n",
       "      <td>82480</td>\n",
       "      <td>5</td>\n",
       "      <td>2</td>\n",
       "      <td>2010</td>\n",
       "      <td>4426</td>\n",
       "      <td>5336</td>\n",
       "      <td>911</td>\n",
       "      <td>4</td>\n",
       "      <td>17071.0</td>\n",
       "      <td>0</td>\n",
       "      <td>True</td>\n",
       "      <td>False</td>\n",
       "      <td>False</td>\n",
       "    </tr>\n",
       "    <tr>\n",
       "      <th>6</th>\n",
       "      <td>26761</td>\n",
       "      <td>4</td>\n",
       "      <td>3</td>\n",
       "      <td>1990</td>\n",
       "      <td>6022</td>\n",
       "      <td>8521</td>\n",
       "      <td>391</td>\n",
       "      <td>3</td>\n",
       "      <td>17363.0</td>\n",
       "      <td>0</td>\n",
       "      <td>True</td>\n",
       "      <td>False</td>\n",
       "      <td>True</td>\n",
       "    </tr>\n",
       "    <tr>\n",
       "      <th>7</th>\n",
       "      <td>62932</td>\n",
       "      <td>6</td>\n",
       "      <td>3</td>\n",
       "      <td>2000</td>\n",
       "      <td>2325</td>\n",
       "      <td>6230</td>\n",
       "      <td>536</td>\n",
       "      <td>9</td>\n",
       "      <td>18985.0</td>\n",
       "      <td>0</td>\n",
       "      <td>False</td>\n",
       "      <td>False</td>\n",
       "      <td>False</td>\n",
       "    </tr>\n",
       "    <tr>\n",
       "      <th>8</th>\n",
       "      <td>91418</td>\n",
       "      <td>2</td>\n",
       "      <td>2</td>\n",
       "      <td>2020</td>\n",
       "      <td>8598</td>\n",
       "      <td>3119</td>\n",
       "      <td>268</td>\n",
       "      <td>10</td>\n",
       "      <td>19638.0</td>\n",
       "      <td>0</td>\n",
       "      <td>False</td>\n",
       "      <td>True</td>\n",
       "      <td>False</td>\n",
       "    </tr>\n",
       "    <tr>\n",
       "      <th>9</th>\n",
       "      <td>29281</td>\n",
       "      <td>7</td>\n",
       "      <td>6</td>\n",
       "      <td>1995</td>\n",
       "      <td>2675</td>\n",
       "      <td>6452</td>\n",
       "      <td>724</td>\n",
       "      <td>2</td>\n",
       "      <td>19788.5</td>\n",
       "      <td>0</td>\n",
       "      <td>False</td>\n",
       "      <td>True</td>\n",
       "      <td>True</td>\n",
       "    </tr>\n",
       "    <tr>\n",
       "      <th>10</th>\n",
       "      <td>40384</td>\n",
       "      <td>5</td>\n",
       "      <td>1</td>\n",
       "      <td>2021</td>\n",
       "      <td>6831</td>\n",
       "      <td>1323</td>\n",
       "      <td>242</td>\n",
       "      <td>9</td>\n",
       "      <td>21201.1</td>\n",
       "      <td>0</td>\n",
       "      <td>False</td>\n",
       "      <td>True</td>\n",
       "      <td>False</td>\n",
       "    </tr>\n",
       "    <tr>\n",
       "      <th>11</th>\n",
       "      <td>99905</td>\n",
       "      <td>3</td>\n",
       "      <td>1</td>\n",
       "      <td>2002</td>\n",
       "      <td>7704</td>\n",
       "      <td>7896</td>\n",
       "      <td>468</td>\n",
       "      <td>8</td>\n",
       "      <td>22499.2</td>\n",
       "      <td>0</td>\n",
       "      <td>False</td>\n",
       "      <td>True</td>\n",
       "      <td>True</td>\n",
       "    </tr>\n",
       "    <tr>\n",
       "      <th>12</th>\n",
       "      <td>42248</td>\n",
       "      <td>5</td>\n",
       "      <td>4</td>\n",
       "      <td>1997</td>\n",
       "      <td>3411</td>\n",
       "      <td>8985</td>\n",
       "      <td>213</td>\n",
       "      <td>4</td>\n",
       "      <td>22670.7</td>\n",
       "      <td>0</td>\n",
       "      <td>True</td>\n",
       "      <td>False</td>\n",
       "      <td>False</td>\n",
       "    </tr>\n",
       "    <tr>\n",
       "      <th>13</th>\n",
       "      <td>63045</td>\n",
       "      <td>5</td>\n",
       "      <td>1</td>\n",
       "      <td>1991</td>\n",
       "      <td>411</td>\n",
       "      <td>475</td>\n",
       "      <td>110</td>\n",
       "      <td>9</td>\n",
       "      <td>23653.1</td>\n",
       "      <td>0</td>\n",
       "      <td>False</td>\n",
       "      <td>True</td>\n",
       "      <td>False</td>\n",
       "    </tr>\n",
       "    <tr>\n",
       "      <th>14</th>\n",
       "      <td>53558</td>\n",
       "      <td>8</td>\n",
       "      <td>6</td>\n",
       "      <td>2014</td>\n",
       "      <td>2663</td>\n",
       "      <td>1650</td>\n",
       "      <td>403</td>\n",
       "      <td>10</td>\n",
       "      <td>23818.4</td>\n",
       "      <td>0</td>\n",
       "      <td>True</td>\n",
       "      <td>False</td>\n",
       "      <td>True</td>\n",
       "    </tr>\n",
       "    <tr>\n",
       "      <th>15</th>\n",
       "      <td>40481</td>\n",
       "      <td>7</td>\n",
       "      <td>5</td>\n",
       "      <td>2009</td>\n",
       "      <td>3367</td>\n",
       "      <td>1039</td>\n",
       "      <td>436</td>\n",
       "      <td>1</td>\n",
       "      <td>24058.9</td>\n",
       "      <td>0</td>\n",
       "      <td>False</td>\n",
       "      <td>True</td>\n",
       "      <td>True</td>\n",
       "    </tr>\n",
       "    <tr>\n",
       "      <th>16</th>\n",
       "      <td>10784</td>\n",
       "      <td>7</td>\n",
       "      <td>2</td>\n",
       "      <td>2019</td>\n",
       "      <td>9680</td>\n",
       "      <td>5250</td>\n",
       "      <td>134</td>\n",
       "      <td>10</td>\n",
       "      <td>26533.9</td>\n",
       "      <td>0</td>\n",
       "      <td>False</td>\n",
       "      <td>False</td>\n",
       "      <td>False</td>\n",
       "    </tr>\n",
       "    <tr>\n",
       "      <th>17</th>\n",
       "      <td>72140</td>\n",
       "      <td>2</td>\n",
       "      <td>1</td>\n",
       "      <td>2014</td>\n",
       "      <td>1820</td>\n",
       "      <td>999</td>\n",
       "      <td>805</td>\n",
       "      <td>4</td>\n",
       "      <td>27438.4</td>\n",
       "      <td>0</td>\n",
       "      <td>True</td>\n",
       "      <td>False</td>\n",
       "      <td>True</td>\n",
       "    </tr>\n",
       "    <tr>\n",
       "      <th>18</th>\n",
       "      <td>25150</td>\n",
       "      <td>6</td>\n",
       "      <td>5</td>\n",
       "      <td>2000</td>\n",
       "      <td>6453</td>\n",
       "      <td>5671</td>\n",
       "      <td>744</td>\n",
       "      <td>9</td>\n",
       "      <td>28028.0</td>\n",
       "      <td>0</td>\n",
       "      <td>True</td>\n",
       "      <td>False</td>\n",
       "      <td>True</td>\n",
       "    </tr>\n",
       "    <tr>\n",
       "      <th>19</th>\n",
       "      <td>38322</td>\n",
       "      <td>2</td>\n",
       "      <td>4</td>\n",
       "      <td>1996</td>\n",
       "      <td>5740</td>\n",
       "      <td>8505</td>\n",
       "      <td>106</td>\n",
       "      <td>6</td>\n",
       "      <td>28295.6</td>\n",
       "      <td>0</td>\n",
       "      <td>True</td>\n",
       "      <td>True</td>\n",
       "      <td>True</td>\n",
       "    </tr>\n",
       "  </tbody>\n",
       "</table>\n",
       "</div>"
      ],
      "text/plain": [
       "    cityCode  cityPartRange  numPrevOwners  made  basement  attic  garage  \\\n",
       "0      61648              3              4  1995      3114   1258     264   \n",
       "1      33633              9              1  2011      9390   6219     922   \n",
       "2      80623              1              4  2003      2239   2795     951   \n",
       "3       8862              6              2  1990      6861   5769     442   \n",
       "4      27008              6              9  1992      6618   7045     939   \n",
       "5      82480              5              2  2010      4426   5336     911   \n",
       "6      26761              4              3  1990      6022   8521     391   \n",
       "7      62932              6              3  2000      2325   6230     536   \n",
       "8      91418              2              2  2020      8598   3119     268   \n",
       "9      29281              7              6  1995      2675   6452     724   \n",
       "10     40384              5              1  2021      6831   1323     242   \n",
       "11     99905              3              1  2002      7704   7896     468   \n",
       "12     42248              5              4  1997      3411   8985     213   \n",
       "13     63045              5              1  1991       411    475     110   \n",
       "14     53558              8              6  2014      2663   1650     403   \n",
       "15     40481              7              5  2009      3367   1039     436   \n",
       "16     10784              7              2  2019      9680   5250     134   \n",
       "17     72140              2              1  2014      1820    999     805   \n",
       "18     25150              6              5  2000      6453   5671     744   \n",
       "19     38322              2              4  1996      5740   8505     106   \n",
       "\n",
       "    hasGuestRoom    price  category  isNewBuilt  hasStormProtector  \\\n",
       "0              9  10313.5         0       False               True   \n",
       "1              9  13229.1         0       False               True   \n",
       "2              7  14431.3         0        True              False   \n",
       "3              5  15488.0         0       False              False   \n",
       "4             10  16799.2         0        True               True   \n",
       "5              4  17071.0         0        True              False   \n",
       "6              3  17363.0         0        True              False   \n",
       "7              9  18985.0         0       False              False   \n",
       "8             10  19638.0         0       False               True   \n",
       "9              2  19788.5         0       False               True   \n",
       "10             9  21201.1         0       False               True   \n",
       "11             8  22499.2         0       False               True   \n",
       "12             4  22670.7         0        True              False   \n",
       "13             9  23653.1         0       False               True   \n",
       "14            10  23818.4         0        True              False   \n",
       "15             1  24058.9         0       False               True   \n",
       "16            10  26533.9         0       False              False   \n",
       "17             4  27438.4         0        True              False   \n",
       "18             9  28028.0         0        True              False   \n",
       "19             6  28295.6         0        True               True   \n",
       "\n",
       "    hasStorageRoom  \n",
       "0             True  \n",
       "1            False  \n",
       "2             True  \n",
       "3            False  \n",
       "4             True  \n",
       "5            False  \n",
       "6             True  \n",
       "7            False  \n",
       "8            False  \n",
       "9             True  \n",
       "10           False  \n",
       "11            True  \n",
       "12           False  \n",
       "13           False  \n",
       "14            True  \n",
       "15            True  \n",
       "16           False  \n",
       "17            True  \n",
       "18            True  \n",
       "19            True  "
      ]
     },
     "execution_count": 6,
     "metadata": {},
     "output_type": "execute_result"
    }
   ],
   "source": [
    "label_encoder = LabelEncoder()\n",
    "\n",
    "df_housing['category'] = label_encoder.fit_transform(df_housing.loc[:, 'category'])\n",
    "df_housing.head(20)"
   ]
  },
  {
   "cell_type": "markdown",
   "id": "9ba96a3b",
   "metadata": {},
   "source": [
    "### Data Visualization\n",
    "\n",
    "Memvisualisasikan data dari 5 fitur pilihan"
   ]
  },
  {
   "cell_type": "code",
   "execution_count": 7,
   "id": "fab83947",
   "metadata": {},
   "outputs": [
    {
     "data": {
      "text/plain": [
       "<Axes: title={'center': 'Kategori Rumah'}>"
      ]
     },
     "execution_count": 7,
     "metadata": {},
     "output_type": "execute_result"
    },
    {
     "data": {
      "image/png": "[encoded data removed]",
      "text/plain": [
       "<Figure size 640x480 with 1 Axes>"
      ]
     },
     "metadata": {},
     "output_type": "display_data"
    }
   ],
   "source": [
    "category_count = df_housing['category'].value_counts()\n",
    "category_count.plot(kind='pie', title='Kategori Rumah', ylabel='', labels=['Basic', 'Luxury'], startangle = 45, autopct=lambda p: '{:.1f}% \\n ({:.0f} rumah)'.format(p,(p/100)*category_count.sum()))"
   ]
  },
  {
   "cell_type": "code",
   "execution_count": 8,
   "id": "49ddfe1d",
   "metadata": {},
   "outputs": [
    {
     "data": {
      "text/plain": [
       "<Axes: title={'center': 'Jenis Bangunan'}>"
      ]
     },
     "execution_count": 8,
     "metadata": {},
     "output_type": "execute_result"
    },
    {
     "data": {
      "image/png": "[encoded data removed]",
      "text/plain": [
       "<Figure size 640x480 with 1 Axes>"
      ]
     },
     "metadata": {},
     "output_type": "display_data"
    }
   ],
   "source": [
    "isNewBuilt_count = df_housing['isNewBuilt'].value_counts()\n",
    "isNewBuilt_count.plot(kind='pie', title='Jenis Bangunan', ylabel='', labels=['Bangunan Baru', 'Renovasi'], autopct=lambda p: '{:.1f}% \\n ({:.0f} rumah)'.format(p,(p/100)*isNewBuilt_count.sum()))"
   ]
  },
  {
   "cell_type": "code",
   "execution_count": 9,
   "id": "c72b7a5b",
   "metadata": {},
   "outputs": [
    {
     "data": {
      "text/plain": [
       "<Axes: title={'center': 'Persebaran Rumah Berdasarkan Tahun Dibangun'}, xlabel='Tahun Rumah Dibangun', ylabel='Jumlah Rumah'>"
      ]
     },
     "execution_count": 9,
     "metadata": {},
     "output_type": "execute_result"
    },
    {
     "data": {
      "image/png": "[encoded data removed]",
      "text/plain": [
       "<Figure size 640x480 with 1 Axes>"
      ]
     },
     "metadata": {},
     "output_type": "display_data"
    }
   ],
   "source": [
    "buildYear_count = df_housing['made'].value_counts(dropna=False)\n",
    "buildYear_count.plot(kind='bar', title='Persebaran Rumah Berdasarkan Tahun Dibangun', xlabel='Tahun Rumah Dibangun', ylabel='Jumlah Rumah')"
   ]
  },
  {
   "cell_type": "code",
   "execution_count": 10,
   "id": "7fa8efcd",
   "metadata": {},
   "outputs": [
    {
     "data": {
      "text/plain": [
       "<Axes: title={'center': 'Persebaran Rumah Berdasarkan Jumlah Pemilik Sebelumnya'}, xlabel='Jumlah Pemilik Sebelumnya', ylabel='Jumlah Rumah'>"
      ]
     },
     "execution_count": 10,
     "metadata": {},
     "output_type": "execute_result"
    },
    {
     "data": {
      "image/png": "[encoded data removed]",
      "text/plain": [
       "<Figure size 640x480 with 1 Axes>"
      ]
     },
     "metadata": {},
     "output_type": "display_data"
    }
   ],
   "source": [
    "buildYear_count = df_housing['numPrevOwners'].value_counts(dropna=False)\n",
    "buildYear_count.plot(kind='bar', title='Persebaran Rumah Berdasarkan Jumlah Pemilik Sebelumnya', xlabel='Jumlah Pemilik Sebelumnya', ylabel='Jumlah Rumah')"
   ]
  },
  {
   "cell_type": "code",
   "execution_count": 11,
   "id": "ed5b9bad",
   "metadata": {
    "scrolled": true
   },
   "outputs": [
    {
     "data": {
      "application/vnd.plotly.v1+json": {
       "config": {
        "plotlyServerURL": "https://plot.ly"
       },
       "data": [
        {
         "hovertemplate": "Tahun %{x}: Harga %{y}",
         "legendgroup": "",
         "line": {
          "color": "#636efa",
          "dash": "solid"
         },
         "marker": {
          "symbol": "circle"
         },
         "mode": "lines",
         "name": "",
         "orientation": "v",
         "showlegend": false,
         "type": "scatter",
         "x": [
          1990,
          1991,
          1992,
          1993,
          1994,
          1995,
          1996,
          1997,
          1998,
          1999,
          2000,
          2001,
          2002,
          2003,
          2004,
          2005,
          2006,
          2007,
          2008,
          2009,
          2010,
          2011,
          2012,
          2013,
          2014,
          2015,
          2016,
          2017,
          2018,
          2019,
          2020,
          2021
         ],
         "xaxis": "x",
         "y": [
          142362791,
          126927651.6,
          89153452.4,
          169296868.79999998,
          182133104.20000002,
          141248753,
          211157156.4,
          119275174.2,
          109338993.2,
          145472196.8,
          124022661,
          117046793.5,
          130115829.8,
          130036291.39999999,
          129079957.60000001,
          102961353.5,
          115531938,
          163240079.4,
          142326712.8,
          175171455.1,
          118470070,
          114062400.5,
          116544582.2,
          114183492.39999999,
          120589116.60000001,
          123737549.5,
          171041053.79999998,
          153732272.9,
          144975856.8,
          155917036.1,
          182026965,
          134774506.6
         ],
         "yaxis": "y"
        }
       ],
       "layout": {
        "legend": {
         "tracegroupgap": 0
        },
        "margin": {
         "t": 60
        },
        "template": {
         "data": {
          "bar": [
           {
            "error_x": {
             "color": "#2a3f5f"
            },
            "error_y": {
             "color": "#2a3f5f"
            },
            "marker": {
             "line": {
              "color": "#E5ECF6",
              "width": 0.5
             },
             "pattern": {
              "fillmode": "overlay",
              "size": 10,
              "solidity": 0.2
             }
            },
            "type": "bar"
           }
          ],
          "barpolar": [
           {
            "marker": {
             "line": {
              "color": "#E5ECF6",
              "width": 0.5
             },
             "pattern": {
              "fillmode": "overlay",
              "size": 10,
              "solidity": 0.2
             }
            },
            "type": "barpolar"
           }
          ],
          "carpet": [
           {
            "aaxis": {
             "endlinecolor": "#2a3f5f",
             "gridcolor": "white",
             "linecolor": "white",
             "minorgridcolor": "white",
             "startlinecolor": "#2a3f5f"
            },
            "baxis": {
             "endlinecolor": "#2a3f5f",
             "gridcolor": "white",
             "linecolor": "white",
             "minorgridcolor": "white",
             "startlinecolor": "#2a3f5f"
            },
            "type": "carpet"
           }
          ],
          "choropleth": [
           {
            "colorbar": {
             "outlinewidth": 0,
             "ticks": ""
            },
            "type": "choropleth"
           }
          ],
          "contour": [
           {
            "colorbar": {
             "outlinewidth": 0,
             "ticks": ""
            },
            "colorscale": [
             [
              0,
              "#0d0887"
             ],
             [
              0.1111111111111111,
              "#46039f"
             ],
             [
              0.2222222222222222,
              "#7201a8"
             ],
             [
              0.3333333333333333,
              "#9c179e"
             ],
             [
              0.4444444444444444,
              "#bd3786"
             ],
             [
              0.5555555555555556,
              "#d8576b"
             ],
             [
              0.6666666666666666,
              "#ed7953"
             ],
             [
              0.7777777777777778,
              "#fb9f3a"
             ],
             [
              0.8888888888888888,
              "#fdca26"
             ],
             [
              1,
              "#f0f921"
             ]
            ],
            "type": "contour"
           }
          ],
          "contourcarpet": [
           {
            "colorbar": {
             "outlinewidth": 0,
             "ticks": ""
            },
            "type": "contourcarpet"
           }
          ],
          "heatmap": [
           {
            "colorbar": {
             "outlinewidth": 0,
             "ticks": ""
            },
            "colorscale": [
             [
              0,
              "#0d0887"
             ],
             [
              0.1111111111111111,
              "#46039f"
             ],
             [
              0.2222222222222222,
              "#7201a8"
             ],
             [
              0.3333333333333333,
              "#9c179e"
             ],
             [
              0.4444444444444444,
              "#bd3786"
             ],
             [
              0.5555555555555556,
              "#d8576b"
             ],
             [
              0.6666666666666666,
              "#ed7953"
             ],
             [
              0.7777777777777778,
              "#fb9f3a"
             ],
             [
              0.8888888888888888,
              "#fdca26"
             ],
             [
              1,
              "#f0f921"
             ]
            ],
            "type": "heatmap"
           }
          ],
          "heatmapgl": [
           {
            "colorbar": {
             "outlinewidth": 0,
             "ticks": ""
            },
            "colorscale": [
             [
              0,
              "#0d0887"
             ],
             [
              0.1111111111111111,
              "#46039f"
             ],
             [
              0.2222222222222222,
              "#7201a8"
             ],
             [
              0.3333333333333333,
              "#9c179e"
             ],
             [
              0.4444444444444444,
              "#bd3786"
             ],
             [
              0.5555555555555556,
              "#d8576b"
             ],
             [
              0.6666666666666666,
              "#ed7953"
             ],
             [
              0.7777777777777778,
              "#fb9f3a"
             ],
             [
              0.8888888888888888,
              "#fdca26"
             ],
             [
              1,
              "#f0f921"
             ]
            ],
            "type": "heatmapgl"
           }
          ],
          "histogram": [
           {
            "marker": {
             "pattern": {
              "fillmode": "overlay",
              "size": 10,
              "solidity": 0.2
             }
            },
            "type": "histogram"
           }
          ],
          "histogram2d": [
           {
            "colorbar": {
             "outlinewidth": 0,
             "ticks": ""
            },
            "colorscale": [
             [
              0,
              "#0d0887"
             ],
             [
              0.1111111111111111,
              "#46039f"
             ],
             [
              0.2222222222222222,
              "#7201a8"
             ],
             [
              0.3333333333333333,
              "#9c179e"
             ],
             [
              0.4444444444444444,
              "#bd3786"
             ],
             [
              0.5555555555555556,
              "#d8576b"
             ],
             [
              0.6666666666666666,
              "#ed7953"
             ],
             [
              0.7777777777777778,
              "#fb9f3a"
             ],
             [
              0.8888888888888888,
              "#fdca26"
             ],
             [
              1,
              "#f0f921"
             ]
            ],
            "type": "histogram2d"
           }
          ],
          "histogram2dcontour": [
           {
            "colorbar": {
             "outlinewidth": 0,
             "ticks": ""
            },
            "colorscale": [
             [
              0,
              "#0d0887"
             ],
             [
              0.1111111111111111,
              "#46039f"
             ],
             [
              0.2222222222222222,
              "#7201a8"
             ],
             [
              0.3333333333333333,
              "#9c179e"
             ],
             [
              0.4444444444444444,
              "#bd3786"
             ],
             [
              0.5555555555555556,
              "#d8576b"
             ],
             [
              0.6666666666666666,
              "#ed7953"
             ],
             [
              0.7777777777777778,
              "#fb9f3a"
             ],
             [
              0.8888888888888888,
              "#fdca26"
             ],
             [
              1,
              "#f0f921"
             ]
            ],
            "type": "histogram2dcontour"
           }
          ],
          "mesh3d": [
           {
            "colorbar": {
             "outlinewidth": 0,
             "ticks": ""
            },
            "type": "mesh3d"
           }
          ],
          "parcoords": [
           {
            "line": {
             "colorbar": {
              "outlinewidth": 0,
              "ticks": ""
             }
            },
            "type": "parcoords"
           }
          ],
          "pie": [
           {
            "automargin": true,
            "type": "pie"
           }
          ],
          "scatter": [
           {
            "fillpattern": {
             "fillmode": "overlay",
             "size": 10,
             "solidity": 0.2
            },
            "type": "scatter"
           }
          ],
          "scatter3d": [
           {
            "line": {
             "colorbar": {
              "outlinewidth": 0,
              "ticks": ""
             }
            },
            "marker": {
             "colorbar": {
              "outlinewidth": 0,
              "ticks": ""
             }
            },
            "type": "scatter3d"
           }
          ],
          "scattercarpet": [
           {
            "marker": {
             "colorbar": {
              "outlinewidth": 0,
              "ticks": ""
             }
            },
            "type": "scattercarpet"
           }
          ],
          "scattergeo": [
           {
            "marker": {
             "colorbar": {
              "outlinewidth": 0,
              "ticks": ""
             }
            },
            "type": "scattergeo"
           }
          ],
          "scattergl": [
           {
            "marker": {
             "colorbar": {
              "outlinewidth": 0,
              "ticks": ""
             }
            },
            "type": "scattergl"
           }
          ],
          "scattermapbox": [
           {
            "marker": {
             "colorbar": {
              "outlinewidth": 0,
              "ticks": ""
             }
            },
            "type": "scattermapbox"
           }
          ],
          "scatterpolar": [
           {
            "marker": {
             "colorbar": {
              "outlinewidth": 0,
              "ticks": ""
             }
            },
            "type": "scatterpolar"
           }
          ],
          "scatterpolargl": [
           {
            "marker": {
             "colorbar": {
              "outlinewidth": 0,
              "ticks": ""
             }
            },
            "type": "scatterpolargl"
           }
          ],
          "scatterternary": [
           {
            "marker": {
             "colorbar": {
              "outlinewidth": 0,
              "ticks": ""
             }
            },
            "type": "scatterternary"
           }
          ],
          "surface": [
           {
            "colorbar": {
             "outlinewidth": 0,
             "ticks": ""
            },
            "colorscale": [
             [
              0,
              "#0d0887"
             ],
             [
              0.1111111111111111,
              "#46039f"
             ],
             [
              0.2222222222222222,
              "#7201a8"
             ],
             [
              0.3333333333333333,
              "#9c179e"
             ],
             [
              0.4444444444444444,
              "#bd3786"
             ],
             [
              0.5555555555555556,
              "#d8576b"
             ],
             [
              0.6666666666666666,
              "#ed7953"
             ],
             [
              0.7777777777777778,
              "#fb9f3a"
             ],
             [
              0.8888888888888888,
              "#fdca26"
             ],
             [
              1,
              "#f0f921"
             ]
            ],
            "type": "surface"
           }
          ],
          "table": [
           {
            "cells": {
             "fill": {
              "color": "#EBF0F8"
             },
             "line": {
              "color": "white"
             }
            },
            "header": {
             "fill": {
              "color": "#C8D4E3"
             },
             "line": {
              "color": "white"
             }
            },
            "type": "table"
           }
          ]
         },
         "layout": {
          "annotationdefaults": {
           "arrowcolor": "#2a3f5f",
           "arrowhead": 0,
           "arrowwidth": 1
          },
          "autotypenumbers": "strict",
          "coloraxis": {
           "colorbar": {
            "outlinewidth": 0,
            "ticks": ""
           }
          },
          "colorscale": {
           "diverging": [
            [
             0,
             "#8e0152"
            ],
            [
             0.1,
             "#c51b7d"
            ],
            [
             0.2,
             "#de77ae"
            ],
            [
             0.3,
             "#f1b6da"
            ],
            [
             0.4,
             "#fde0ef"
            ],
            [
             0.5,
             "#f7f7f7"
            ],
            [
             0.6,
             "#e6f5d0"
            ],
            [
             0.7,
             "#b8e186"
            ],
            [
             0.8,
             "#7fbc41"
            ],
            [
             0.9,
             "#4d9221"
            ],
            [
             1,
             "#276419"
            ]
           ],
           "sequential": [
            [
             0,
             "#0d0887"
            ],
            [
             0.1111111111111111,
             "#46039f"
            ],
            [
             0.2222222222222222,
             "#7201a8"
            ],
            [
             0.3333333333333333,
             "#9c179e"
            ],
            [
             0.4444444444444444,
             "#bd3786"
            ],
            [
             0.5555555555555556,
             "#d8576b"
            ],
            [
             0.6666666666666666,
             "#ed7953"
            ],
            [
             0.7777777777777778,
             "#fb9f3a"
            ],
            [
             0.8888888888888888,
             "#fdca26"
            ],
            [
             1,
             "#f0f921"
            ]
           ],
           "sequentialminus": [
            [
             0,
             "#0d0887"
            ],
            [
             0.1111111111111111,
             "#46039f"
            ],
            [
             0.2222222222222222,
             "#7201a8"
            ],
            [
             0.3333333333333333,
             "#9c179e"
            ],
            [
             0.4444444444444444,
             "#bd3786"
            ],
            [
             0.5555555555555556,
             "#d8576b"
            ],
            [
             0.6666666666666666,
             "#ed7953"
            ],
            [
             0.7777777777777778,
             "#fb9f3a"
            ],
            [
             0.8888888888888888,
             "#fdca26"
            ],
            [
             1,
             "#f0f921"
            ]
           ]
          },
          "colorway": [
           "#636efa",
           "#EF553B",
           "#00cc96",
           "#ab63fa",
           "#FFA15A",
           "#19d3f3",
           "#FF6692",
           "#B6E880",
           "#FF97FF",
           "#FECB52"
          ],
          "font": {
           "color": "#2a3f5f"
          },
          "geo": {
           "bgcolor": "white",
           "lakecolor": "white",
           "landcolor": "#E5ECF6",
           "showlakes": true,
           "showland": true,
           "subunitcolor": "white"
          },
          "hoverlabel": {
           "align": "left"
          },
          "hovermode": "closest",
          "mapbox": {
           "style": "light"
          },
          "paper_bgcolor": "white",
          "plot_bgcolor": "#E5ECF6",
          "polar": {
           "angularaxis": {
            "gridcolor": "white",
            "linecolor": "white",
            "ticks": ""
           },
           "bgcolor": "#E5ECF6",
           "radialaxis": {
            "gridcolor": "white",
            "linecolor": "white",
            "ticks": ""
           }
          },
          "scene": {
           "xaxis": {
            "backgroundcolor": "#E5ECF6",
            "gridcolor": "white",
            "gridwidth": 2,
            "linecolor": "white",
            "showbackground": true,
            "ticks": "",
            "zerolinecolor": "white"
           },
           "yaxis": {
            "backgroundcolor": "#E5ECF6",
            "gridcolor": "white",
            "gridwidth": 2,
            "linecolor": "white",
            "showbackground": true,
            "ticks": "",
            "zerolinecolor": "white"
           },
           "zaxis": {
            "backgroundcolor": "#E5ECF6",
            "gridcolor": "white",
            "gridwidth": 2,
            "linecolor": "white",
            "showbackground": true,
            "ticks": "",
            "zerolinecolor": "white"
           }
          },
          "shapedefaults": {
           "line": {
            "color": "#2a3f5f"
           }
          },
          "ternary": {
           "aaxis": {
            "gridcolor": "white",
            "linecolor": "white",
            "ticks": ""
           },
           "baxis": {
            "gridcolor": "white",
            "linecolor": "white",
            "ticks": ""
           },
           "bgcolor": "#E5ECF6",
           "caxis": {
            "gridcolor": "white",
            "linecolor": "white",
            "ticks": ""
           }
          },
          "title": {
           "x": 0.05
          },
          "xaxis": {
           "automargin": true,
           "gridcolor": "white",
           "linecolor": "white",
           "ticks": "",
           "title": {
            "standoff": 15
           },
           "zerolinecolor": "white",
           "zerolinewidth": 2
          },
          "yaxis": {
           "automargin": true,
           "gridcolor": "white",
           "linecolor": "white",
           "ticks": "",
           "title": {
            "standoff": 15
           },
           "zerolinecolor": "white",
           "zerolinewidth": 2
          }
         }
        },
        "title": {
         "text": "Persebaran Rumah Berdasarkan Harga dan Tahun Rumah Dibangun"
        },
        "xaxis": {
         "anchor": "y",
         "domain": [
          0,
          1
         ],
         "linecolor": "white",
         "linewidth": 1,
         "showgrid": false,
         "showline": true,
         "title": {
          "text": "Tahun Rumah Dibangun"
         }
        },
        "yaxis": {
         "anchor": "x",
         "domain": [
          0,
          1
         ],
         "linecolor": "white",
         "linewidth": 1,
         "showgrid": false,
         "showline": true,
         "title": {
          "text": "Harga"
         }
        }
       }
      }
     },
     "metadata": {},
     "output_type": "display_data"
    }
   ],
   "source": [
    "df_house_buildYear = df_housing.groupby(by='made').sum().reset_index()\n",
    "\n",
    "fig = px.line(df_house_buildYear, x='made', y='price')\n",
    "fig.update_layout(title='Persebaran Rumah Berdasarkan Harga dan Tahun Rumah Dibangun')\n",
    "fig.update_traces(hovertemplate='Tahun %{x}: Harga %{y}')\n",
    "fig.update_xaxes(title=\"Tahun Rumah Dibangun\", showline=True, linewidth=1, linecolor='white', showgrid=False)\n",
    "fig.update_yaxes(title=\"Harga\", showline=True, linewidth=1, linecolor='white', showgrid=False)\n",
    "fig.show()"
   ]
  },
  {
   "cell_type": "markdown",
   "id": "c5610f85",
   "metadata": {},
   "source": [
    "### Deskripsi Data Visualization\n",
    "1. Pada visualisasi kategori rumah, terlihat bahwa persebaran rumah berdasarkan kategorinya berjumlah seimbang.\n",
    "2. Pada visualisasi jenis bangunan, terlihat bahwa mayoritas data rumah merupakan bangunan baru.\n",
    "3. Pada visualisasi persebaran rumah berdasarkan tahun dibangun, terlihat bahwa mayoritas rumah dibangun pada tahun 2016 dan sedikit rumah yang dibangun pada tahun 2006.\n",
    "3. Pada visualisasi persebaran rumah berdasarkan jumlah pemilik sebelumnya, terlihat bahwa mayoritas rumah pernah dimiliki 4 orang dan sedikit rumah yang pernah dimiliki 3 orang.\n",
    "4. Berdasarkan visualisasi persebaran rumah berdasarkan harga dan tahun rumah dibangun, terlihat bahwa harga rumah tertinggi adalah 211.1572M pada rumah yang dibangun tahun 1996 dan harga terendah adalah 89.15345M pada pada rumah yang dibangun tahun 1992."
   ]
  },
  {
   "cell_type": "markdown",
   "id": "13792201",
   "metadata": {},
   "source": [
    "### Modelling\n",
    "\n",
    "Menggunakan Pipeline untuk modelling dan grid search cross-validation untuk pemilihan model terbaik. Menggunakan Stratified K-fold Cross Validation dengan nilai k=5. Pipeline terdiri atas data scaling, feature selection, dan classifier.\n",
    "\n",
    ">Step data scaling untuk membandingkan perlunya data scaling atau tidak. Menggunakan tiga nilai pada parameter grid yaitu: [None,Scaler1,Scaler2] Scaler yang digunakan antara lain MinMax, Standard, atau Robust.\n",
    "\n",
    ">Step feature selection untuk membandingkan metode feature selection yang digunakan. Menggunakan tiga metode pada parameter grid yaitu: [None,Selector1,Selector2]. Metode yang digunakan merupakan jenis statistik univariat (antara SelectKBest atau SelectPercentile) dan SelectFromModel (antara menggunakan tree-based model atau linear model). \n",
    "\n",
    ">Step classifier untuk membandingkan algoritme classifier. Menggunakan 4 algoritme pembelajaran mesin yaitu Random Forest, Gradient Boosting Classifier, Logistic Regression, dan SVM. Eksplorasi pengaturan parameter yang ada pada algoritme yang digunakan, tidak terbatas pada 1-2 parameter saja supaya optimal (selain random_state). Dilakukan bereksperimen untuk parameter seperti n_estimators, max_depth untuk tree-based classifier; C untuk Logistic Regression; dan C, gamma, serta kernel untuk SVM agar mendapat akurasi terbaik.\n",
    "\n",
    ">Menampilkan best estimator dan nilai best score dari grid-search cross-validation. Fit best estimator pada train set kemudian ujikan pada test set dengan fungsi score."
   ]
  },
  {
   "cell_type": "code",
   "execution_count": 11,
   "id": "04f4286a",
   "metadata": {},
   "outputs": [],
   "source": [
    "x = df_housing.drop('category', axis=1)\n",
    "y = df_housing['category']\n",
    "\n",
    "x_train, x_test, y_train, y_test = train_test_split(x.values, y.values, test_size=0.25, random_state=0)"
   ]
  },
  {
   "cell_type": "code",
   "execution_count": 12,
   "id": "50c86125",
   "metadata": {},
   "outputs": [],
   "source": [
    "pipe = Pipeline([('data_scaling', StandardScaler()),\n",
    "                ('feature_selection', SelectKBest()),\n",
    "                ('classification', GradientBoostingClassifier())])\n",
    "\n",
    "param_grid = [{'data_scaling' : [None, MinMaxScaler(), StandardScaler()],\n",
    "               'feature_selection' : [None, SelectKBest(k=5)]\n",
    "              },\n",
    "              {'data_scaling' : [None, MinMaxScaler(), StandardScaler()],\n",
    "               'feature_selection' : [None, SelectKBest(k=5)],\n",
    "               'classification': [RandomForestClassifier()],\n",
    "               'classification__random_state' : [0, 42],\n",
    "               'classification__n_estimators' : [10, 100, 1000],\n",
    "               'classification__max_depth' : [4, 5, 6, 7, 8]\n",
    "              },\n",
    "              {'data_scaling' : [None, MinMaxScaler(), StandardScaler()],\n",
    "               'feature_selection' : [None, SelectKBest(k=5)],\n",
    "               'classification': [GradientBoostingClassifier()],\n",
    "               'classification__n_estimators' : [10, 100, 1000],\n",
    "               'classification__max_depth' : [4, 5, 6, 7, 8]\n",
    "              },\n",
    "              {'data_scaling' : [None, MinMaxScaler(), StandardScaler()],\n",
    "               'feature_selection' : [None, SelectKBest(k=5)],\n",
    "               'classification': [LogisticRegression()],\n",
    "               'classification__max_iter': [1000, 2000, 3000],\n",
    "               'classification__C' : [0.001, 0.01, 0.1, 1, 10, 100]\n",
    "              },\n",
    "              {'data_scaling' : [None, MinMaxScaler(), StandardScaler()],\n",
    "               'feature_selection' : [None, SelectKBest(k=5)],\n",
    "               'classification': [SVC()],\n",
    "               'classification__C' : [0.001, 0.01, 0.1, 1, 10, 100],\n",
    "               'classification__gamma' : [1, 0.1, 0.01, 0.001],\n",
    "               'classification__kernel' : ['rbf', 'sigmoid']\n",
    "              },    \n",
    "              {'data_scaling' : [None, MinMaxScaler(), StandardScaler()],\n",
    "               'feature_selection' : [SelectFromModel(RandomForestClassifier(random_state = 0, n_estimators = 10, max_depth = 4))]\n",
    "              },\n",
    "              {'data_scaling' : [None, MinMaxScaler(), StandardScaler()],\n",
    "               'feature_selection' : [SelectFromModel(RandomForestClassifier(random_state = 0, n_estimators = 10, max_depth = 4))],\n",
    "               'classification': [RandomForestClassifier()],\n",
    "               'classification__random_state' : [0, 42],\n",
    "               'classification__n_estimators' : [10, 100, 1000],\n",
    "               'classification__max_depth' : [4, 5, 6, 7, 8]\n",
    "              },\n",
    "              {'data_scaling' : [None, MinMaxScaler(), StandardScaler()],\n",
    "               'feature_selection' : [SelectFromModel(RandomForestClassifier(random_state = 0, n_estimators = 10, max_depth = 4))],\n",
    "               'classification': [GradientBoostingClassifier()],\n",
    "               'classification__n_estimators' : [10, 100, 1000],\n",
    "               'classification__max_depth' : [4, 5, 6, 7, 8]\n",
    "              },\n",
    "              {'data_scaling' : [None, MinMaxScaler(), StandardScaler()],\n",
    "               'feature_selection' : [SelectFromModel(RandomForestClassifier(random_state = 0, n_estimators = 10, max_depth = 4))],\n",
    "               'classification': [LogisticRegression()],\n",
    "               'classification__max_iter': [1000, 2000, 3000],\n",
    "               'classification__C' : [0.001, 0.01, 0.1, 1, 10, 100]\n",
    "              },\n",
    "              {'data_scaling' : [None, MinMaxScaler(), StandardScaler()],\n",
    "               'feature_selection' : [SelectFromModel(RandomForestClassifier(random_state = 0, n_estimators = 10, max_depth = 4))],\n",
    "               'classification': [SVC()],\n",
    "               'classification__C' : [0.001, 0.01, 0.1, 1, 10, 100],\n",
    "               'classification__gamma' : [1, 0.1, 0.01, 0.001],\n",
    "               'classification__kernel' : ['rbf', 'sigmoid']  \n",
    "              }\n",
    "             ]"
   ]
  },
  {
   "cell_type": "code",
   "execution_count": 13,
   "id": "ad8d17c4",
   "metadata": {},
   "outputs": [
    {
     "name": "stdout",
     "output_type": "stream",
     "text": [
      "Best Estimator Grid Search\t: Pipeline(steps=[('data_scaling', None), ('feature_selection', SelectKBest(k=5)),\n",
      "                ('classification',\n",
      "                 RandomForestClassifier(max_depth=4, random_state=42))])\n",
      "Best Score Grid Search\t: 0.9286666666666668\n"
     ]
    }
   ],
   "source": [
    "skfold = StratifiedKFold(n_splits=5, shuffle=True, random_state=0)\n",
    "grid_search = GridSearchCV(pipe, param_grid=param_grid, cv=skfold).fit(x_train, y_train)\n",
    "\n",
    "print('Best Estimator Grid Search\\t: {}'.format(grid_search.best_estimator_))\n",
    "print('Best Score Grid Search\\t: {}'.format(grid_search.best_score_))"
   ]
  },
  {
   "cell_type": "code",
   "execution_count": 14,
   "id": "971dab94",
   "metadata": {},
   "outputs": [
    {
     "name": "stdout",
     "output_type": "stream",
     "text": [
      "Best Score\t: 0.938\n"
     ]
    }
   ],
   "source": [
    "grid_search.best_estimator_.fit(x_train, y_train)\n",
    "print('Best Score\\t: {}'.format(grid_search.score(x_test, y_test)))"
   ]
  },
  {
   "cell_type": "markdown",
   "id": "9ccd42b1",
   "metadata": {},
   "source": [
    "### Evaluasi Model\n",
    "\n",
    "Bagian berikut berisi evaluasi model menggunakan classification report dan skor AUC. Menampilkan classification report dan AUC dari best estimator yang diperoleh!"
   ]
  },
  {
   "cell_type": "code",
   "execution_count": 15,
   "id": "25812a07",
   "metadata": {},
   "outputs": [
    {
     "name": "stdout",
     "output_type": "stream",
     "text": [
      "Confusion Matrix:\n",
      " [[254   0]\n",
      " [ 31 215]]\n"
     ]
    }
   ],
   "source": [
    "grid_search_pred = grid_search.predict(x_test)\n",
    "print(\"Confusion Matrix:\\n\", confusion_matrix(y_test, grid_search_pred))"
   ]
  },
  {
   "cell_type": "code",
   "execution_count": 22,
   "id": "3e9cffc1",
   "metadata": {},
   "outputs": [
    {
     "name": "stdout",
     "output_type": "stream",
     "text": [
      "              precision    recall  f1-score   support\n",
      "\n",
      "       Basic       0.89      1.00      0.94       254\n",
      "      Luxury       1.00      0.87      0.93       246\n",
      "\n",
      "    accuracy                           0.94       500\n",
      "   macro avg       0.95      0.94      0.94       500\n",
      "weighted avg       0.94      0.94      0.94       500\n",
      "\n"
     ]
    }
   ],
   "source": [
    "print(classification_report(y_test, grid_search_pred, target_names=['Basic', 'Luxury']))"
   ]
  },
  {
   "cell_type": "code",
   "execution_count": 17,
   "id": "25cfd6cf",
   "metadata": {},
   "outputs": [
    {
     "data": {
      "text/plain": [
       "0.9721688752320593"
      ]
     },
     "execution_count": 17,
     "metadata": {},
     "output_type": "execute_result"
    }
   ],
   "source": [
    "roc_auc_score(y_test, grid_search.best_estimator_.predict_proba(x_test)[:,1])"
   ]
  },
  {
   "cell_type": "code",
   "execution_count": 18,
   "id": "c93002ca",
   "metadata": {},
   "outputs": [
    {
     "data": {
      "text/plain": [
       "<matplotlib.legend.Legend at 0x1f2e4699d30>"
      ]
     },
     "execution_count": 18,
     "metadata": {},
     "output_type": "execute_result"
    },
    {
     "data": {
      "image/png": "[encoded data removed]",
      "text/plain": [
       "<Figure size 432x288 with 1 Axes>"
      ]
     },
     "metadata": {
      "needs_background": "light"
     },
     "output_type": "display_data"
    }
   ],
   "source": [
    "fpr, tpr, thresholds = roc_curve(y_test, grid_search.best_estimator_.predict_proba(x_test)[:,1])\n",
    "\n",
    "plt.plot(fpr, tpr, label=\"ROC Curve\")\n",
    "plt.xlabel(\"FPR\")\n",
    "plt.ylabel(\"TPR (recall)\")\n",
    "\n",
    "close_zero = np.argmin(np.abs(thresholds))\n",
    "plt.plot(fpr[close_zero], tpr[close_zero], 'o', markersize=10,\n",
    "        label='Threshold Zero', fillstyle='none', c='k', mew=2)\n",
    "plt.legend(loc=4)"
   ]
  },
  {
   "cell_type": "markdown",
   "id": "d6f85f13",
   "metadata": {},
   "source": [
    "### Laporan Proyek"
   ]
  },
  {
   "cell_type": "markdown",
   "id": "a1c82c65",
   "metadata": {},
   "source": [
    "#### Tentang DataSet\n",
    "Ini adalah kumpulan data yang dibuat dari data imajiner harga rumah di lingkungan kota Paris.\n",
    "\n",
    "#### Fitur dan Target\n",
    "1. squareMeters - Ukuran rumah dalam meter persegi\n",
    "2. numberOfRooms - Jumlah kamar\n",
    "3. hasYard - Rumah memiliki halaman (Ya atau Tidak)\n",
    "4. hasPool - Rumah memiliki kolam renang (Ya atau Tidak)\n",
    "5. floors - Jumlah Lantai\n",
    "6. cityCode - Kode Pos\n",
    "7. cityPartRange - Semakin tinggi kisarannya, semakin eksklusif lingkungan tersebut (0 - 10)\n",
    "8. numPrevOwners - Jumlah pemilik sebelumnya\n",
    "9. made - Tahun Pembuatan Rumah\n",
    "10. isNewBuilt - Kategori Bangunan (Baru atau Renovasi)\n",
    "11. hasStormProtector - Rumah memiliki pelindung badai (Ya atau Tidak)\n",
    "12. basement - Ukuran ruang basemen dalam meter persegi\n",
    "13. attic - Ukuran loteng dalam meter persegi\n",
    "14. garage - Ukurann garasi dalam meter persegi\n",
    "15. hasStorageRoom - Rumah memiliki ruang penyimpanan (Ya atau Tidak)\n",
    "16. hasGuestRoom - Jumlah kamar tamu \n",
    "17. price - Harga Rumah\n",
    "18. category - Kategori Rumah (Luxury atau Basic)\n",
    "\n",
    "#### Proses Data Cleansing\n",
    "Proses data cleansing dilakukan dengan melakukan categorical data encoding pada beberapa kolom. Untuk kolom isNewBuilt, hasStormProtector, dan hasStorageRoom menggunakan one hot encoder sehingga tidak memunculkan asumsi ordinal pada feature. Sedangkan pada kolom category menggunakan label encoding yang mengubah label (khususnya target y, bukan feature X) menjadi integer yang unik berdasarkan urutan alfabet.\n",
    "\n",
    "#### Proses Data Visualization\n",
    "Proses data visualization dilakukan pada 5 kolom yang dipilih secara intuitif sebagai kolom yang paling berpengaruh.\n",
    "\n",
    "#### Proses Feature Engineering dan Modeling\n",
    "Pencarian estimator terbaik dilakukan dengan menggunakan Pipeline, Grid Search Cross-Validation, dan Stratified K-fold Cross Validation. Adapun beberapa estimator yang digunakan diantaranya: \n",
    "1. Data Scaling : None, MinMaxScaler, StandardScaler\n",
    "2. Feature Selection : None, SelectKBest, SelectFromModel menggunakan RandomForestClassifier\n",
    "3. Classification : RandomForestClassifier, GradientBoostingClassifier, LogisticRegression, SVC\n",
    "\n",
    "#### Model Terbaik\n",
    "Berdasarkan hasil pencarian estimator terbaik, terpilih estimator sebagai berikut:\n",
    "1. Data Scaling : None\n",
    "2. Feature Selection : SelectKBest(k=5)\n",
    "3. Classification : RandomForestClassifier(max_depth=4, random_state=42)\n",
    "Skor yang didapat dari model tersebut sebesar 0.9286666666666668\n",
    "\n",
    "#### Hasil Evaluasi Model\n",
    "Berdasarkan hasil evaluasi dari confussion matrix, diketahui bahwa terdapat 31 data yang seharusnya diklasifikasikan sebagai Luxury diklasifikasikan sebagai Basic. Hasil akurasi yang didapat menggunakan skor AUC adalah 0.9721688752320593."
   ]
  }
 ],
 "metadata": {
  "kernelspec": {
   "display_name": "Python 3 (ipykernel)",
   "language": "python",
   "name": "python3"
  },
  "language_info": {
   "codemirror_mode": {
    "name": "ipython",
    "version": 3
   },
   "file_extension": ".py",
   "mimetype": "text/x-python",
   "name": "python",
   "nbconvert_exporter": "python",
   "pygments_lexer": "ipython3",
   "version": "3.11.1"
  }
 },
 "nbformat": 4,
 "nbformat_minor": 5
}
